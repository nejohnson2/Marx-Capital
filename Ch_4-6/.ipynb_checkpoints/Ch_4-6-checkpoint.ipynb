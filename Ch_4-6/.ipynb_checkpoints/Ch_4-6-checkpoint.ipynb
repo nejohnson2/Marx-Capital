{
 "metadata": {
  "name": "",
  "signature": "sha256:9d7251c97cacb5fbe6ddaa9c39b73fbd916dff9cb31eaa0c226d93c6b29a2c47"
 },
 "nbformat": 3,
 "nbformat_minor": 0,
 "worksheets": [
  {
   "cells": [
    {
     "cell_type": "markdown",
     "metadata": {},
     "source": [
      "# The General Formula of Capital \n",
      "\n",
      "---"
     ]
    },
    {
     "cell_type": "markdown",
     "metadata": {},
     "source": [
      "$$ \n",
      "C - M - C \\\\\n",
      "(\\text{Commodity} - \\text{Money} - \\text{Commodity})\n",
      "$$"
     ]
    },
    {
     "cell_type": "markdown",
     "metadata": {},
     "source": [
      "The exchange of equivalents (only interested in the use-value)"
     ]
    },
    {
     "cell_type": "markdown",
     "metadata": {},
     "source": [
      "$$ \n",
      "M - C - M \\\\\n",
      "(\\text{Money-Commodity-Money})\n",
      "$$"
     ]
    },
    {
     "cell_type": "markdown",
     "metadata": {},
     "source": [
      "This is an absurd idea that you would take money, risk it, then end up with the same amount at the end.  The only way this works is by adding in **surplus-value** $(\\Delta M)$.  But where does this surplus value come from? \n",
      "\n",
      "> **Answer:**  ```Labor Power``` is a commodity which produces more value than it has.  \n"
     ]
    },
    {
     "cell_type": "markdown",
     "metadata": {},
     "source": [
      "Therefore the equation is:"
     ]
    },
    {
     "cell_type": "markdown",
     "metadata": {},
     "source": [
      "$$ \n",
      "M - C - (M + \\Delta M )\n",
      "$$ "
     ]
    },
    {
     "cell_type": "markdown",
     "metadata": {},
     "source": [
      "There are **historic** origins of capitalism as well as a **logical** argument. \n",
      "\n",
      "Money and Capital are two different things.  Capital is created by a social decision to use captial in particular - the proecess of converting money into captial.  $M-C-M$ is different then $C-M-C$\n",
      "\n",
      "**Capital** is value in motion.  A circulation process.  When the motion ceases it stops being capital.\n",
      "\n",
      "Money is a form of social power that is limitless.  There is a limit to the number of use-values you can hold.\n",
      "\n",
      "What is socially necessary? Capital's constant growth and expansion is socially necessary for capital to survive.\n"
     ]
    },
    {
     "cell_type": "markdown",
     "metadata": {},
     "source": [
      "A **capitalist** is not an ```individual``` but a ```role``` (pg 254).  If you are a **capitalist**, you seek **surplus value**.\n",
      "\n",
      "In the $Commodity$ for and the $Money$ form, at what point to you measure you're ```value```?  \n",
      "\n",
      "> **Answer:** In the $Money$ form.\n",
      "\n",
      "**Capital is value in motion.**  It is a process and defined to those terms.  But is a process that can only be measured and understood in terms of the money value.  The $Money$ form becomes upfront in the circulation process."
     ]
    },
    {
     "cell_type": "markdown",
     "metadata": {},
     "source": [
      "## Contradictions in the General Formula\n",
      "\n",
      "---"
     ]
    },
    {
     "cell_type": "markdown",
     "metadata": {},
     "source": [
      "Where does ```surplus value``` come from?  \n",
      "\n",
      "Traditional political economic theory says that ```use-value``` supplies the extra ```surplus-value```.  Marx says this cannot be the case.\n",
      "\n",
      "**Circulation creates no value.**  (pg 266)\n",
      "\n",
      "Capitalism had to start somehow...there is a history of how it started which relates to ```merchants captial``` and ```useres capital``` being undisciplined to the laws of capitalism.  But at some point the ```modern industrialist capital``` takes over.  This form of capital needs merchants but must be disciplined to industrial capital.\n",
      "\n",
      "There are different types of captial.  ```Financial capital```, ```industrial capital```.  The rise of ```financial capital``` interests in the US are also giving way to deindustrialization.\n",
      "\n",
      "So there is a battle of power between ```industrial capital``` and ```financial capital```.\n",
      "\n",
      "Where does ```surplus value``` come from?"
     ]
    },
    {
     "cell_type": "markdown",
     "metadata": {},
     "source": [
      "## The Sale and Purchase of Labor-Power\n",
      "\n",
      "---"
     ]
    },
    {
     "cell_type": "markdown",
     "metadata": {},
     "source": [
      "There is a difference between ```labor``` and ```labor-power```\n",
      "\n",
      "```Labor-power``` is the capacity to create value.  And ```value``` is **socially necessary labor-time**.  \n",
      "\n",
      "The capitalist must find a commodity - labor-power - which can be bought and sold in such a way to be sure that the labor-power given to the capitalist is greater than the labor required to reproduce the laborer. "
     ]
    },
    {
     "cell_type": "markdown",
     "metadata": {},
     "source": [
      "###Requirements "
     ]
    },
    {
     "cell_type": "markdown",
     "metadata": {},
     "source": [
      " Laborers must be free to: \n",
      "\t \n",
      "1. choose their work (no slavery) \n",
      "2. be free from the control of the means of production!\n",
      "\n",
      "(pg 273) not all market societies are capitalistic societies.\n",
      "\n",
      "This is the foundation and start of capitalism:\n",
      "\n",
      " *It is only when the owner of the means of production and subsistence finds the free worker available, on the market, as the seller of his own labour-power.  And this one historical pre-condition comprises a world's history. (pg 174)*\n",
      "\n",
      "> **i.e.** The creation of the proletariat!!!"
     ]
    },
    {
     "cell_type": "markdown",
     "metadata": {},
     "source": [
      "###The value of labor-power\n",
      "\n",
      "What constitutes the value of labor-power?\n",
      "\n",
      "- the worker needs to live - so there must be enough commodities to live\n",
      "\t- how many commodities does someone need to live?\n",
      "\n",
      "There is not a single quantifiable figure.  It varies from place to place and time to time.  But, in a given situation, we know what that value is. - ```datum```.\n",
      "\n",
      "For example, the ```poverty level``` in the United States.  This is very different from China, Argentina etc...  \n",
      "\n",
      "Marx says, that for our analysis, lets say we know what the datum is.  \n",
      "\n",
      "The commodity labor-power is not like other commodities because a moral, civilizational, class struggle element enters.  But this is all up-front in what determines labor-power.\n",
      "\n",
      "Another peculiarity of labor-power is that the labor is advancing his labor to the capitalist.  He is paid after the work is done.\n",
      "\n",
      "The value of ```labor-power``` is fixed in the market and determined by the value of commodities used.\n",
      "\n",
      "Laborers are in which circuit?\n",
      "\n",
      "Laborers are in the $C - M - C$ while capitalists are in the $M - C -M$ circuit."
     ]
    }
   ],
   "metadata": {}
  }
 ]
}