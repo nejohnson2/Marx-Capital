{
 "metadata": {
  "name": "",
  "signature": "sha256:b2849da64fe6e8acc0c794cdcf2f6b9c1426c2998ec660ed836509f7e93d8725"
 },
 "nbformat": 3,
 "nbformat_minor": 0,
 "worksheets": [
  {
   "cells": [
    {
     "cell_type": "code",
     "collapsed": false,
     "input": [
      "from IPython.display import YouTubeVideo\n",
      "YouTubeVideo('_EP7N2VtFz0')"
     ],
     "language": "python",
     "metadata": {},
     "outputs": [
      {
       "html": [
        "\n",
        "        <iframe\n",
        "            width=\"400\"\n",
        "            height=300\"\n",
        "            src=\"https://www.youtube.com/embed/_EP7N2VtFz0\"\n",
        "            frameborder=\"0\"\n",
        "            allowfullscreen\n",
        "        ></iframe>\n",
        "        "
       ],
       "metadata": {},
       "output_type": "pyout",
       "prompt_number": 11,
       "text": [
        "<IPython.lib.display.YouTubeVideo at 0x1118a82d0>"
       ]
      }
     ],
     "prompt_number": 11
    },
    {
     "cell_type": "markdown",
     "metadata": {},
     "source": [
      "#Ch 10 The Working Day\n",
      "---"
     ]
    },
    {
     "cell_type": "markdown",
     "metadata": {},
     "source": [
      "This chapter is all about **time**.  We think of time as natural, but Marx says time shifts with the dynamics of capitalism.  Capitalism creates the sense of a working day, working year, working life.  Therefore it is socially constructed.  Time is not natual at all!"
     ]
    },
    {
     "cell_type": "markdown",
     "metadata": {},
     "source": [
      "Why does capitalism have this kind of temporality.  It is radically different than other societies.  "
     ]
    },
    {
     "cell_type": "markdown",
     "metadata": {},
     "source": [
      "$$\n",
      "Working day I:   A ------- B - C \\\\\n",
      "Working day II:  A ------- B --- C \\\\\n",
      "Working day III: A ------- B ------ C  \\\\\n",
      "$$"
     ]
    },
    {
     "cell_type": "markdown",
     "metadata": {},
     "source": [
      "The Capitalist wants the working day to be as long as possible beause he has 'purchased' it.  Marx's says there are limits \n",
      "1. Physical Limits \n",
      "2. Social Limits - the worker needs time to satisfy his intellectual and social needs.  "
     ]
    },
    {
     "cell_type": "markdown",
     "metadata": {},
     "source": [
      "There is a fight over the working day and it is fundamental to capitalism."
     ]
    },
    {
     "cell_type": "markdown",
     "metadata": {},
     "source": [
      "The extraction of surplus labor is not unique to capitalism.  This has happened in all societies.  But there is a big difference between surplus labor and surplus value.  Capitalism is concerned with surplus value being extracted from surplus labor (wage labor).  **The trouble is that the worker cannot see this extraction.  It is hidden.**  In other societies you can see it.  Surfdom and the corv\u00e9e systesm."
     ]
    },
    {
     "cell_type": "markdown",
     "metadata": {},
     "source": [
      "What happens when a system (surfdom) becomes integrated into a system that focuses on surplus value(capitalism).  There is a limit to how you can accumulate use values for the lord.  But once you monetize it... The result is that once these systems become monetized, you become exploitative."
     ]
    },
    {
     "cell_type": "markdown",
     "metadata": {},
     "source": [
      "Temporality is incredibly important.  What is time?  The capitalist definition is special to capitalism.  It expects labor to work 365 days a year.  This chapter talks about how time is constructed and normalized. Time can be redefined by social process and the redefinition is a part of a class project - an outcome of a class project.  This provides an advantage to the class extracting that labor/value."
     ]
    },
    {
     "cell_type": "markdown",
     "metadata": {},
     "source": [
      "Marx then talks about restricting time through the factory acts.  Why would a state ruled by capitalist and landlord agree to limit the working day? -- Capitalists, if left unchecked will destroy the environment, resource base and labor force through over-exploitation.  There is an element in class interest to check themselves and a recognition that capitalism can be pushed too far. -- recognition by the capitalist class."
     ]
    },
    {
     "cell_type": "markdown",
     "metadata": {},
     "source": [
      "Then enters the role of the state.  The state wants a working class healthy enough to go to war.  They have an interest in maintaining the basis of a healthy army."
     ]
    },
    {
     "cell_type": "markdown",
     "metadata": {},
     "source": [
      "How is the working day developed - pg352 - ** Moments are the elements of profit ** . Value is socially necessary labor time.  If the worker loses time, the capitalist loses time.  Therefore time management becomes incredibly important and become a general capitalist principal."
     ]
    },
    {
     "cell_type": "markdown",
     "metadata": {},
     "source": [
      "#### 4. Day Work and Night Work - the shift system\n",
      "\n",
      "Once capitalits have money in machines, they want that money back as soon as possible.  They want the machines to run all of the time and they need people to run the machines all of the time.  This creates the relay system - ie working in shifts"
     ]
    },
    {
     "cell_type": "markdown",
     "metadata": {},
     "source": [
      "#### 5. The Struggle for a normal working day\n",
      "\n",
      "Understanding how the capitalist approaches the labor question: \"it is self evident that the worker is nothing more than labor-power for the duration of his entire life\"  The worker should be used at all times.  \n",
      "\n",
      "The capitalist realizes however that this approach will eventually destroy the very thing which they need to create surplus-value - the worker.  It would seem natural that the capitalist would want a normal working day.\n",
      "\n",
      "A **labor surplus** has a crutial role to play in how this dynamic works.  Its only when you have a large labor surplus that you are in a position to discipline and replace at relativley low wages.  "
     ]
    },
    {
     "cell_type": "markdown",
     "metadata": {},
     "source": [
      "The **coersive laws of competition**!  Capitalists are compelled to be competitive and act the same."
     ]
    },
    {
     "cell_type": "markdown",
     "metadata": {},
     "source": [
      "The establishment of a normal working day is the result of centuries of struggle between the capitalist and the worker.  Furthermore, the initali laws constructed by the capitalist to enforce a working day, were intended to condition the working into having a working day.  Creating wage laborers.  Marx says this was not an easy task and required the state to intercede in order to indicate to those not wanting to be apart of the system that if they wanted to survive they needed to become a wage laborer and subscribe to the notion of the importance of time and time discipline.\n",
      "\n",
      "Workers had to become normalized and accept time discipline.  And this become socially acceptable.  There was a world where this was not the case.  It took a lot of violence and social press to get people in shape.  It was done through the state and all manner of institutions.  \n",
      "\n",
      "Focault - the idea of **self discipline** that Focault developed.  He was extending and elaborating these ideas from Marx!  The creation of disciplinary measures - the state, institutions - to have society accept these methods of discipline."
     ]
    },
    {
     "cell_type": "markdown",
     "metadata": {},
     "source": [
      "*The inalienable rights of man.*  Marx says workers have to put their heads together to push back against the capitalist.  Upon reflection, the capitalist will undermind his own class reproduction because of the coersive laws of competition.  Therefore, as the workers put their heads together they actually save capitalists from their own stupidity.  This seems to have the effect of stablizing the capitalist system...not overthrowing it!  \n",
      "\n",
      "This is a difficult conclusion to reach.  "
     ]
    },
    {
     "cell_type": "markdown",
     "metadata": {},
     "source": [
      "#Ch 11 The Rate and Mass of Surplus Value\n",
      "---"
     ]
    },
    {
     "cell_type": "markdown",
     "metadata": {},
     "source": [
      "$$\\text{Rate of Surplus Value} * \\text{Number of Laborers Employed} = \\text{Mass of surplus-value}$$\n",
      "\n",
      "Capitalists are interested in the **mass of surplus value** because the mass of surpluse value is social power.  There is a limit to the rate of surplus value(social and physical).  There is a limit to the amount of capital that you can invest in variable capital.  There is a limit to the number of laborers you can employ.  (the total population of available laborers\n",
      "\n",
      "There are three limits to capital accumulation:\n",
      "\n",
      "1. Total population\n",
      "2. rate of exploitation\n",
      "3. The amount spent on variable captial\n",
      "\n",
      "Capitalism does not like limits...by definiation...they are looking for limitless ways of accumulating.  This is the question Marx poses which is answered in the next chapter.\n",
      "\n",
      "There is another way of gaining surplus value...relative surplus value."
     ]
    },
    {
     "cell_type": "code",
     "collapsed": false,
     "input": [
      "from IPython.core.display import HTML\n",
      "\n",
      "def css_styling():\n",
      "    styles = open(\"../styles/custom.css\", \"r\").read()\n",
      "    return HTML(styles)\n",
      "css_styling()"
     ],
     "language": "python",
     "metadata": {},
     "outputs": [
      {
       "html": [
        "<style>\n",
        "    @font-face {\n",
        "        font-family: \"Computer Modern\";\n",
        "        src: url('http://9dbb143991406a7c655e-aa5fcb0a5a4ec34cff238a2d56ca4144.r56.cf5.rackcdn.com/cmunss.otf');\n",
        "    }\n",
        "    @font-face {\n",
        "        font-family: \"Computer Modern\";\n",
        "        font-weight: bold;\n",
        "        src: url('http://9dbb143991406a7c655e-aa5fcb0a5a4ec34cff238a2d56ca4144.r56.cf5.rackcdn.com/cmunsx.otf');\n",
        "    }\n",
        "    @font-face {\n",
        "        font-family: \"Computer Modern\";\n",
        "        font-style: oblique;\n",
        "        src: url('http://9dbb143991406a7c655e-aa5fcb0a5a4ec34cff238a2d56ca4144.r56.cf5.rackcdn.com/cmunsi.otf');\n",
        "    }\n",
        "    @font-face {\n",
        "        font-family: \"Computer Modern\";\n",
        "        font-weight: bold;\n",
        "        font-style: oblique;\n",
        "        src: url('http://9dbb143991406a7c655e-aa5fcb0a5a4ec34cff238a2d56ca4144.r56.cf5.rackcdn.com/cmunso.otf');\n",
        "    }\n",
        "    div.cell{\n",
        "        width:800px;\n",
        "        margin-left:16% !important;\n",
        "        margin-right:auto;\n",
        "    }\n",
        "    h1 {\n",
        "        font-family: Helvetica, serif;\n",
        "    }\n",
        "    h4{\n",
        "        margin-top:12px;\n",
        "        margin-bottom: 3px;\n",
        "       }\n",
        "    div.text_cell_render{\n",
        "        font-family: Computer Modern, \"Helvetica Neue\", Arial, Helvetica, Geneva, sans-serif;\n",
        "        line-height: 145%;\n",
        "        font-size: 130%;\n",
        "        width:800px;\n",
        "        margin-left:auto;\n",
        "        margin-right:auto;\n",
        "    }\n",
        "    .CodeMirror{\n",
        "            font-family: \"Source Code Pro\", source-code-pro,Consolas, monospace;\n",
        "    }\n",
        "    .prompt{\n",
        "        display: None;\n",
        "    }\n",
        "    .text_cell_render h5 {\n",
        "        font-weight: 300;\n",
        "        font-size: 22pt;\n",
        "        color: #4057A1;\n",
        "        font-style: italic;\n",
        "        margin-bottom: .5em;\n",
        "        margin-top: 0.5em;\n",
        "        display: block;\n",
        "    }\n",
        "    \n",
        "    .warning{\n",
        "        color: rgb( 240, 20, 20 )\n",
        "        }  \n",
        "</style>\n",
        "<script>\n",
        "    MathJax.Hub.Config({\n",
        "                        TeX: {\n",
        "                           extensions: [\"AMSmath.js\"]\n",
        "                           },\n",
        "                tex2jax: {\n",
        "                    inlineMath: [ ['$','$'], [\"\\\\(\",\"\\\\)\"] ],\n",
        "                    displayMath: [ ['$$','$$'], [\"\\\\[\",\"\\\\]\"] ]\n",
        "                },\n",
        "                displayAlign: 'center', // Change this to 'center' to center equations.\n",
        "                \"HTML-CSS\": {\n",
        "                    styles: {'.MathJax_Display': {\"margin\": 4}}\n",
        "                }\n",
        "        });\n",
        "</script>\n"
       ],
       "metadata": {},
       "output_type": "pyout",
       "prompt_number": 1,
       "text": [
        "<IPython.core.display.HTML at 0x1035a0690>"
       ]
      }
     ],
     "prompt_number": 1
    }
   ],
   "metadata": {}
  }
 ]
}