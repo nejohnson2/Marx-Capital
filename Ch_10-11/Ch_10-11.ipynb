{
 "metadata": {
  "name": "",
  "signature": "sha256:b834414071cc845634412abe2164cbb59d74f37d7561070e93eda134469f71b6"
 },
 "nbformat": 3,
 "nbformat_minor": 0,
 "worksheets": [
  {
   "cells": [
    {
     "cell_type": "markdown",
     "metadata": {},
     "source": [
      "#Ch 10 The Working Day\n",
      "---"
     ]
    },
    {
     "cell_type": "markdown",
     "metadata": {},
     "source": [
      "This chapter is all about **time**.  We think of time as natural, but Marx says time shifts with the dynamics of capitalism.  Capitalism creates the sense of a working day, working year, working life.  Therefore it is socially constructed.  Time is not natual at all!"
     ]
    },
    {
     "cell_type": "markdown",
     "metadata": {},
     "source": [
      "Why does capitalism have this kind of temporality.  It is radically different than other societies.  "
     ]
    },
    {
     "cell_type": "markdown",
     "metadata": {},
     "source": [
      "$$\n",
      "Working day I:   A ------- B - C \\\\\n",
      "Working day II:  A ------- B --- C \\\\\n",
      "Working day III: A ------- B ------ C  \\\\\n",
      "$$"
     ]
    },
    {
     "cell_type": "markdown",
     "metadata": {},
     "source": [
      "The Capitalist wants the working day to be as long as possible beause he has 'purchased' it.  Marx's says there are limits 1) Physical Limits 2) Social Limits - the worker needs time to satisfy his intellectual and social needs.  "
     ]
    },
    {
     "cell_type": "markdown",
     "metadata": {},
     "source": [
      "There is a fight over the working day and it is fundamental to capitalism."
     ]
    },
    {
     "cell_type": "markdown",
     "metadata": {},
     "source": [
      "The extraction of surplus labor is not unique to capitalism.  This has happened in all societies.  But there is a big difference between surplus labor and surplus value.  Capitalism is concerned with surplus value being extracted from surplus labor (wage labor).  **The trouble is that the worker cannot see this extraction.  It is hidden.**  In other societies you can see it.  Surfdom and the corv\u00e9e systesm."
     ]
    },
    {
     "cell_type": "markdown",
     "metadata": {},
     "source": [
      "What happens when a system (surfdom) becomes integrated into a system that focuses on surplus value(capitalism).  There is a limit to how you can accumulate use values for the lord.  But once you monetize it... The result is that once these systems become monetized, you become exploitative."
     ]
    },
    {
     "cell_type": "markdown",
     "metadata": {},
     "source": [
      "Temporality is incredibly important.  What is time?  The capitalist definition is special to capitalism.  It expects labor to work 365 days a year.  This chapter talks about how time is constructed and normalized. Time can be redefined by social process and the redefinition is a part of a class project - an outcome of a class project.  This provides an advantage to the class extracting that labor/value."
     ]
    },
    {
     "cell_type": "markdown",
     "metadata": {},
     "source": [
      "Marx then talks about restricting time through the factory acts.  Why would a state ruled by capitalist and landlord agree to limit the working day? -- Capitalists, if left unchecked will destroy the environment, resource base and labor force through over-exploitation.  There is an element in class interest to check themselves and a recognition that capitalism can be pushed too far. -- recognition by the capitalist class."
     ]
    },
    {
     "cell_type": "markdown",
     "metadata": {},
     "source": [
      "Then enters the role of the state.  The state wants a working class healthy enough to go to war.  They have an interest in maintaining the basis of a healthy army."
     ]
    },
    {
     "cell_type": "markdown",
     "metadata": {},
     "source": [
      "How is the working day developed - pg352 - ** Moments are the elements of profit ** . Value is socially necessary labor time.  If the worker loses time, the capitalist loses time.  Therefore time management becomes incredibly important and become a general capitalist principal."
     ]
    },
    {
     "cell_type": "markdown",
     "metadata": {},
     "source": []
    },
    {
     "cell_type": "markdown",
     "metadata": {},
     "source": [
      "#Ch 11 The Rate and Mass of Surplus Value\n",
      "---"
     ]
    },
    {
     "cell_type": "markdown",
     "metadata": {},
     "source": []
    },
    {
     "cell_type": "code",
     "collapsed": false,
     "input": [
      "from IPython.core.display import HTML\n",
      "\n",
      "def css_styling():\n",
      "    styles = open(\"../styles/custom.css\", \"r\").read()\n",
      "    return HTML(styles)\n",
      "css_styling()"
     ],
     "language": "python",
     "metadata": {},
     "outputs": [
      {
       "html": [
        "<style>\n",
        "    @font-face {\n",
        "        font-family: \"Computer Modern\";\n",
        "        src: url('http://9dbb143991406a7c655e-aa5fcb0a5a4ec34cff238a2d56ca4144.r56.cf5.rackcdn.com/cmunss.otf');\n",
        "    }\n",
        "    @font-face {\n",
        "        font-family: \"Computer Modern\";\n",
        "        font-weight: bold;\n",
        "        src: url('http://9dbb143991406a7c655e-aa5fcb0a5a4ec34cff238a2d56ca4144.r56.cf5.rackcdn.com/cmunsx.otf');\n",
        "    }\n",
        "    @font-face {\n",
        "        font-family: \"Computer Modern\";\n",
        "        font-style: oblique;\n",
        "        src: url('http://9dbb143991406a7c655e-aa5fcb0a5a4ec34cff238a2d56ca4144.r56.cf5.rackcdn.com/cmunsi.otf');\n",
        "    }\n",
        "    @font-face {\n",
        "        font-family: \"Computer Modern\";\n",
        "        font-weight: bold;\n",
        "        font-style: oblique;\n",
        "        src: url('http://9dbb143991406a7c655e-aa5fcb0a5a4ec34cff238a2d56ca4144.r56.cf5.rackcdn.com/cmunso.otf');\n",
        "    }\n",
        "    div.cell{\n",
        "        width:800px;\n",
        "        margin-left:16% !important;\n",
        "        margin-right:auto;\n",
        "    }\n",
        "    h1 {\n",
        "        font-family: Helvetica, serif;\n",
        "    }\n",
        "    h4{\n",
        "        margin-top:12px;\n",
        "        margin-bottom: 3px;\n",
        "       }\n",
        "    div.text_cell_render{\n",
        "        font-family: Computer Modern, \"Helvetica Neue\", Arial, Helvetica, Geneva, sans-serif;\n",
        "        line-height: 145%;\n",
        "        font-size: 130%;\n",
        "        width:800px;\n",
        "        margin-left:auto;\n",
        "        margin-right:auto;\n",
        "    }\n",
        "    .CodeMirror{\n",
        "            font-family: \"Source Code Pro\", source-code-pro,Consolas, monospace;\n",
        "    }\n",
        "    .prompt{\n",
        "        display: None;\n",
        "    }\n",
        "    .text_cell_render h5 {\n",
        "        font-weight: 300;\n",
        "        font-size: 22pt;\n",
        "        color: #4057A1;\n",
        "        font-style: italic;\n",
        "        margin-bottom: .5em;\n",
        "        margin-top: 0.5em;\n",
        "        display: block;\n",
        "    }\n",
        "    \n",
        "    .warning{\n",
        "        color: rgb( 240, 20, 20 )\n",
        "        }  \n",
        "</style>\n",
        "<script>\n",
        "    MathJax.Hub.Config({\n",
        "                        TeX: {\n",
        "                           extensions: [\"AMSmath.js\"]\n",
        "                           },\n",
        "                tex2jax: {\n",
        "                    inlineMath: [ ['$','$'], [\"\\\\(\",\"\\\\)\"] ],\n",
        "                    displayMath: [ ['$$','$$'], [\"\\\\[\",\"\\\\]\"] ]\n",
        "                },\n",
        "                displayAlign: 'center', // Change this to 'center' to center equations.\n",
        "                \"HTML-CSS\": {\n",
        "                    styles: {'.MathJax_Display': {\"margin\": 4}}\n",
        "                }\n",
        "        });\n",
        "</script>\n"
       ],
       "metadata": {},
       "output_type": "pyout",
       "prompt_number": 1,
       "text": [
        "<IPython.core.display.HTML at 0x1035a0690>"
       ]
      }
     ],
     "prompt_number": 1
    }
   ],
   "metadata": {}
  }
 ]
}