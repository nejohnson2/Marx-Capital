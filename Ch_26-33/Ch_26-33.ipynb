{
 "metadata": {
  "name": "",
  "signature": "sha256:55c2893e8ad5fa4135f94928a4f6555329a0145f02514e11a97d29998588322b"
 },
 "nbformat": 3,
 "nbformat_minor": 0,
 "worksheets": [
  {
   "cells": [
    {
     "cell_type": "code",
     "collapsed": false,
     "input": [
      "from IPython.display import YouTubeVideo\n",
      "YouTubeVideo('Z-8U_Rpd9wk')"
     ],
     "language": "python",
     "metadata": {},
     "outputs": [
      {
       "html": [
        "\n",
        "        <iframe\n",
        "            width=\"400\"\n",
        "            height=300\"\n",
        "            src=\"https://www.youtube.com/embed/Z-8U_Rpd9wk\"\n",
        "            frameborder=\"0\"\n",
        "            allowfullscreen\n",
        "        ></iframe>\n",
        "        "
       ],
       "metadata": {},
       "output_type": "pyout",
       "prompt_number": 1,
       "text": [
        "<IPython.lib.display.YouTubeVideo at 0x10faf9650>"
       ]
      }
     ],
     "prompt_number": 1
    },
    {
     "cell_type": "markdown",
     "metadata": {},
     "source": [
      "# The Secret of Primitive Accumulation\n",
      "\n",
      "Intro: Marx was prophetic about capitalism and where it's going to go.  Now, it's easier to apply Marx's writings to the world rather than in the 1960's."
     ]
    },
    {
     "cell_type": "markdown",
     "metadata": {},
     "source": [
      "The first seven parts are dialogue about a world of freedom/property/behtem have there way.  This is not the world we live in but this was the argument of classical political economy.  Meaning, the invisible hand would save everything.  Marx accepts these assumptions (Part 2) but then shows step by step the consecquences of the implementation of this utopian vision.  \n",
      "\n",
      "**Minor consequence:** we're likely to see an individual system displaced by the centralization of capital which is the end result of compotition - i.e. monopoly.  The end result of the Smithian world is to destroy individualism.\n",
      "\n",
      "**Major consequence:** is that thte rich get richer and the poor get poor.  Accumulation of wealth on the part of capital and the accumulation of misery on the olther pole: ie the working class who has been deprived of the dynamics of capitalism.\n",
      "\n",
      "Very easy to be drawn into the illusion of liberty and freedom that the system promotes.  The market system is about these virtues.  From the outside, it looks like a virtuous system.  Historically this is what the capitalist class propaganda and discourse has been active in doing.  But the consequences is the increasing inequality and centralization of power.\n",
      "\n",
      "Over the past 30 years, the neoliberal 'assult' has constantly preached about freedom and liberty instead of equality.  Is capital more centralized more now than more years ago?  Yes.  There has been a very distinct trend toward this.  There is a distinct trend in income for CEO's to workers...etc... The concetration of wealth in the top 1% has double over the last 25 years.  "
     ]
    },
    {
     "cell_type": "markdown",
     "metadata": {},
     "source": [
      "**Part 8** is really about the history of inappropriate behaviors from capitalists.  He describes the world of original accumulation - how did it all begin.  It begins through violent appropriation of a previous mode of production.\n",
      "\n",
      "> Ends with a discussion on colonialism?  Marx feels some necessity to point out that colonialism is no solution as advocated by Heigel.  \n",
      "\n",
      "The primary dialoug in part 8 is Adam Smith belief in capital accumulation in which he says was a passive peaceful transition which happened bit by bit.  Workers prefered to give up their labor-power in order to obtain a wage or way of life.  Smith accounts that the state played no role in this process.  Smith's entire argument is about keeping the state out of economics and everything will be ok.    \n",
      "\n",
      "Marx completely disagree's with this.  Marx argues it was all done through fraud, accumulation of state power etc... a violent separation of the laborer and the means of his ability to self-sustain/self produce."
     ]
    },
    {
     "cell_type": "markdown",
     "metadata": {},
     "source": [
      "# The Expropriation of the Agricultural Population from the Land\n",
      "\n",
      "Initially, this process occured illegally.  The state attempted to control it, but after the 16th centrury.  Communal property began to disappear and become private property which the state began to support this.  THe common lands were closed and people began to be explled from their villages. - loss of rural culture and destruction of rural life. (p895)\n",
      "\n",
      "# Bloody Legislation against the Expropriated since the End of the Fifteenth Centruy.  The Forcing Down of Wages by Act of Parliament\n",
      "\n",
      "The state begins to be used as a means to prosecute those who have been disposed through the removal of their land.  Either be good proletariants or be pressed down by the stat aparatus.  Legislation on the minimun lenght of the working day etc..\n",
      "\n",
      "###A social relation mediated through things!!! p932\n",
      "\n",
      "---\n",
      "\n",
      "Primitive accumulation has never gone away.  Harvey argues this.  Primitive accumulation gernerally happened in the periphary.  After the fall of the colonies this starts to con\n",
      "\n",
      "**disposetion of peasant populations** - when did this stop?  is it still going on? yes.  It hasnt gone away.\n",
      "**international credit system and national debet** - have they disappeared? predatory behavior...nope!\n",
      "\n",
      "The mechanism which Marx talks about is still going on all around us.  Rights are being taken away.  MOney is being appropriated.  Land loss.  **Accumulation by Disposetion**\n",
      "\n",
      "- Family farms\n",
      "- healthcare right\n",
      "\n"
     ]
    },
    {
     "cell_type": "code",
     "collapsed": false,
     "input": [
      "from IPython.core.display import HTML\n",
      "\n",
      "def css_styling():\n",
      "    styles = open(\"../styles/custom.css\", \"r\").read()\n",
      "    return HTML(styles)\n",
      "css_styling()"
     ],
     "language": "python",
     "metadata": {},
     "outputs": [
      {
       "html": [
        "<style>\n",
        "    @font-face {\n",
        "        font-family: \"Computer Modern\";\n",
        "        src: url('http://9dbb143991406a7c655e-aa5fcb0a5a4ec34cff238a2d56ca4144.r56.cf5.rackcdn.com/cmunss.otf');\n",
        "    }\n",
        "    @font-face {\n",
        "        font-family: \"Computer Modern\";\n",
        "        font-weight: bold;\n",
        "        src: url('http://9dbb143991406a7c655e-aa5fcb0a5a4ec34cff238a2d56ca4144.r56.cf5.rackcdn.com/cmunsx.otf');\n",
        "    }\n",
        "    @font-face {\n",
        "        font-family: \"Computer Modern\";\n",
        "        font-style: oblique;\n",
        "        src: url('http://9dbb143991406a7c655e-aa5fcb0a5a4ec34cff238a2d56ca4144.r56.cf5.rackcdn.com/cmunsi.otf');\n",
        "    }\n",
        "    @font-face {\n",
        "        font-family: \"Computer Modern\";\n",
        "        font-weight: bold;\n",
        "        font-style: oblique;\n",
        "        src: url('http://9dbb143991406a7c655e-aa5fcb0a5a4ec34cff238a2d56ca4144.r56.cf5.rackcdn.com/cmunso.otf');\n",
        "    }\n",
        "    div.cell{\n",
        "        width:800px;\n",
        "        margin-left:16% !important;\n",
        "        margin-right:auto;\n",
        "    }\n",
        "    h1 {\n",
        "        font-family: Helvetica, serif;\n",
        "    }\n",
        "    h4{\n",
        "        margin-top:12px;\n",
        "        margin-bottom: 3px;\n",
        "       }\n",
        "    div.text_cell_render{\n",
        "        font-family: Computer Modern, \"Helvetica Neue\", Arial, Helvetica, Geneva, sans-serif;\n",
        "        line-height: 145%;\n",
        "        font-size: 130%;\n",
        "        width:800px;\n",
        "        margin-left:auto;\n",
        "        margin-right:auto;\n",
        "    }\n",
        "    .CodeMirror{\n",
        "            font-family: \"Source Code Pro\", source-code-pro,Consolas, monospace;\n",
        "    }\n",
        "    .prompt{\n",
        "        display: None;\n",
        "    }\n",
        "    .text_cell_render h5 {\n",
        "        font-weight: 300;\n",
        "        font-size: 22pt;\n",
        "        color: #4057A1;\n",
        "        font-style: italic;\n",
        "        margin-bottom: .5em;\n",
        "        margin-top: 0.5em;\n",
        "        display: block;\n",
        "    }\n",
        "    \n",
        "    .warning{\n",
        "        color: rgb( 240, 20, 20 )\n",
        "        }  \n",
        "</style>\n",
        "<script>\n",
        "    MathJax.Hub.Config({\n",
        "                        TeX: {\n",
        "                           extensions: [\"AMSmath.js\"]\n",
        "                           },\n",
        "                tex2jax: {\n",
        "                    inlineMath: [ ['$','$'], [\"\\\\(\",\"\\\\)\"] ],\n",
        "                    displayMath: [ ['$$','$$'], [\"\\\\[\",\"\\\\]\"] ]\n",
        "                },\n",
        "                displayAlign: 'center', // Change this to 'center' to center equations.\n",
        "                \"HTML-CSS\": {\n",
        "                    styles: {'.MathJax_Display': {\"margin\": 4}}\n",
        "                }\n",
        "        });\n",
        "</script>\n"
       ],
       "metadata": {},
       "output_type": "pyout",
       "prompt_number": 5,
       "text": [
        "<IPython.core.display.HTML at 0x10fb04910>"
       ]
      }
     ],
     "prompt_number": 5
    }
   ],
   "metadata": {}
  }
 ]
}