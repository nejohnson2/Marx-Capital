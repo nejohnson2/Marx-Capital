{
 "metadata": {
  "name": "",
  "signature": "sha256:88a072c6f366e78da3c75c8f4b901ac971bab46bfe4fe2f576c7ef70e7662e53"
 },
 "nbformat": 3,
 "nbformat_minor": 0,
 "worksheets": [
  {
   "cells": [
    {
     "cell_type": "markdown",
     "metadata": {},
     "source": [
      "#Ch 7 - The Labor Process and the Valorization Process\n",
      "\n",
      "---\n",
      "\n"
     ]
    },
    {
     "cell_type": "markdown",
     "metadata": {},
     "source": [
      "$$\n",
      "\\text{Commodity}\n",
      "\\left.\\begin{cases}\n",
      " \\text{Use Value} \\\\\n",
      " \\text{Exchange Value}\n",
      "\\end{cases}\n",
      "\\right\\} \\text{Labor Value}\n",
      "$$"
     ]
    },
    {
     "cell_type": "markdown",
     "metadata": {},
     "source": [
      "Starts with the commodity which is a unitary concept which is differentiated between use and exchange value.  Labor Value is the socially necessary labor time.\n"
     ]
    },
    {
     "cell_type": "markdown",
     "metadata": {},
     "source": [
      "$$\n",
      "\\text{Labor Value}\n",
      "\\left.\\begin{cases}\n",
      " \\text{Concrete Labor} \\\\\n",
      " \\text{Abstract Labor}\n",
      "\\end{cases}\n",
      "\\right\\} \\text{Form of Value}\n",
      "$$"
     ]
    },
    {
     "cell_type": "markdown",
     "metadata": {},
     "source": [
      "Concrete is actually making something."
     ]
    },
    {
     "cell_type": "markdown",
     "metadata": {},
     "source": [
      "$$\n",
      "\\text{Form of Value}\n",
      "\\left.\\begin{cases}\n",
      " \\text{Equivalent Value} \\\\\n",
      " \\text{Relative Value}\n",
      "\\end{cases}\n",
      "\\right\\} \\text{Money Form}\n",
      "$$"
     ]
    },
    {
     "cell_type": "markdown",
     "metadata": {},
     "source": [
      "Both of these produce the money form.  Money form is a representation of value.  It is not value itself.  Leads to fetishism that arises out of this leading to:  "
     ]
    },
    {
     "cell_type": "markdown",
     "metadata": {},
     "source": [
      "$$\n",
      "\\text{Money}\n",
      "\\left.\\begin{cases}\n",
      " \\text{Material relations between persons} \\\\\n",
      " \\text{Social relations given by the price of things}\n",
      "\\end{cases}\n",
      "\\right\\} \\text{Market}\n",
      "$$"
     ]
    },
    {
     "cell_type": "markdown",
     "metadata": {},
     "source": [
      "Social relation given by the price of things. and Material relations "
     ]
    },
    {
     "cell_type": "markdown",
     "metadata": {},
     "source": [
      "$$\n",
      "\\text{Market}\n",
      "\\left.\\begin{cases}\n",
      " \\text{Buyers} \\\\\n",
      " \\text{Sellers}\n",
      "\\end{cases}\n",
      "\\right\\} \\text{Money}\n",
      "$$"
     ]
    },
    {
     "cell_type": "markdown",
     "metadata": {},
     "source": [
      "Money mediates the relation between Buyers and sellers."
     ]
    },
    {
     "cell_type": "markdown",
     "metadata": {},
     "source": [
      "$$\n",
      "\\text{Money}\n",
      "\\left.\\begin{cases}\n",
      " \\text{Measure of Value} \\\\\n",
      " \\text{Means of Circulation}\n",
      "\\end{cases}\n",
      "\\right\\} \\text{Universal Money}\n",
      "$$\n",
      "Universal form of money \n",
      "\n",
      "$$\n",
      "\\text{Universal Money}\n",
      "\\left.\\begin{cases}\n",
      " \\text{Debitors} \\\\\n",
      " \\text{Creditors}\n",
      "\\end{cases}\n",
      "\\right\\} \\text{Circulation Process of Capital}\n",
      "$$\n",
      "Circulation process presupposes that someone will get more out than started.\n",
      "\n",
      "$$\n",
      "\\text{Money}\n",
      "\\left.\\begin{cases}\n",
      " \\text{Equivalents} \\\\\n",
      " \\text{Non-Equivalents of Surplus Value}\n",
      "\\end{cases}\n",
      "\\right\\} \\text{Labor Power}\n",
      "$$\n",
      "The buying and selling of labor power in the market allows the capitalist to purchase something which creates more value than what it has:\n",
      "$$\n",
      "\\text{Labor Power}\n",
      "\\left.\\begin{cases}\n",
      " \\text{Capital} \\\\\n",
      " \\text{Labor}\n",
      "\\end{cases}\n",
      "\\right\\} \\text{Universal Money}\n",
      "$$\n",
      "This leads to class struggle."
     ]
    },
    {
     "cell_type": "markdown",
     "metadata": {},
     "source": [
      "All of this is not causal. It is an expansion of his argument.  The aim is to understand the **capitalist mode of production**.\n",
      "\n",
      ">Is the labor process natural or man made?  Marx says both!\n",
      "\n",
      "We can't get away from the fact that we alter the world around us in order to live.  In so doing we develop social ways and processes. pg 283\n",
      "\n",
      "> This section is very important because it talks about changing the world around us and that this process is natural.  In some way, waste is an both natural and un-natural process.  In modifying the world around us we generate waste yet we have differed from history in that the waste now being generated does not return back to nature in any human time scale, if at all.\n",
      "\n",
      "> Consumption is derived from the process of capitalism and therefore, as Marx argues, is both something natural and something generated by man.  A duality.\n",
      "\n",
      "\"You cannot change yourself without changing the world around you and simultaneously you cannot change the world around you without changing yourself\".  This dialectic is fundamental of how Marx views the evolution of human society through transformations of nature.\n",
      "\n",
      "**You cannot divide social project from ecological projects.**\n",
      "\n",
      "Increasingly we see a division between nature and society.  Marx would approach this in a unitary manner.  Capitalism transforms everything. There is a unity in capitalism.\n",
      "\n",
      "**(pg283) Yet, Marx declares that we have sovereign power over nature which means we have the ability to decide how it changes.**\n",
      "\n",
      "The real problem is the conception of the separation of nature and society and as this happens, these process become antagonistic.  Our practices are going to become this way.  \n",
      "\n",
      "**There is an antagonistic between technological shifts and social relations.** pg(286)  It is a complicated history. \n",
      "\n",
      "pg290\n",
      "There are two types of consumption: **productive consumption** and individual consumption.  \n",
      "\n",
      "- **Productive consumption:** a means of subsistence for labour.  The activity through which the living individual's labour-power manifests itself\n",
      "- **Individual consumption:** consumption of products as a means of subsistence for the living labor\n",
      "\n",
      "A use value disappears.  Productive consumption remains in the production process in some way..either in material or the past labor being present - that is the history of production.\n",
      "\n",
      "> Labor is a process of consumption!  It is always consuming energy.  On every level.  People consume food in order to work. etc...\n",
      "\n",
      "Here is the secret to surplus value:  the capitalist pays for all the materials and for the worker.  He pays the worker for whatever the average wage of that time is.  That value, however, is based on for example 3hrs of work.  The worker however then works 8hours producing surplus value.\n",
      "\n",
      "Here starts a class struggle over the working day.  Capitalists want the laborer to work more.  The difficulty is determining when has the value of the laborer been reached?\n",
      "\n",
      "pg303: \" all wasteful consumption of raw material or instruments of labour is strictly forbidden\" - the law of the capitalist.\n",
      "\n"
     ]
    },
    {
     "cell_type": "markdown",
     "metadata": {},
     "source": [
      "##Ch 8 Constant Capital and Variable Capital\n",
      "\n",
      "---\n",
      "\n",
      "**Constant Capital** - past labour in products prior to their incorporation in a labor process.  The value is fixed.  The same amount of value that goes in is what comes out.  \n",
      "\n",
      "There is a **value transfer** from machines to the products.  this only happens because value is **immaterial but objective**.  Socially necessary labor time.  The transfer is given to the capitalist for free.  Labor, through productive consumption, transfers value from the machine to the laborer.  This empowers the laborer.  If the laborer stops working, the transfer of value is lost.\n",
      "\n",
      "Furthermore, the laborer adds value.\n",
      "\n",
      "**Variable Capital** - the value put in by the laborer.  After a certain amount of time, the value added is the same as the cost to employ the laborer.  The laborer then adds more value.\n",
      "\n",
      "The value of the products:\n",
      "\n",
      "$$\n",
      "Value = \\text{Constant Capital} + \\text{Variable Capital} + \\text{Surplus Value}\n",
      "$$\n",
      "\n",
      "Machines are not a source of value.  They transfer value.\n",
      "\n"
     ]
    },
    {
     "cell_type": "markdown",
     "metadata": {},
     "source": [
      "## Ch 9 - The Rate of Surplus Value\n",
      "\n",
      "---\n",
      "\n",
      "$$\n",
      "\\frac{\\text{Constant Capital}}{\\text{Variable Capital} } = Productivity\n",
      "$$\n",
      "\n",
      "$$\n",
      "\\frac{\\text{Surplus Value}}{\\text{Variable Capital} } = \\text{Rate of Exploitation}\n",
      "$$\n",
      "\n",
      "$$\n",
      "\\frac{\\text{Surplus Value}}{\\text{Constant Capital + Variable Capital} } = \\text{Rate of Profit}\n",
      "$$\n",
      "\n",
      "Capitalists really want to base their processes based on the ```Rate of Profit```.  It is impossible for the worker to know when they have added enough ```socially necessary labor time``` to be equivalant to their cost."
     ]
    },
    {
     "cell_type": "code",
     "collapsed": false,
     "input": [
      "from IPython.core.display import HTML\n",
      "\n",
      "def css_styling():\n",
      "    styles = open(\"../styles/custom.css\", \"r\").read()\n",
      "    return HTML(styles)\n",
      "css_styling()"
     ],
     "language": "python",
     "metadata": {},
     "outputs": [
      {
       "html": [
        "<style>\n",
        "    @font-face {\n",
        "        font-family: \"Computer Modern\";\n",
        "        src: url('http://9dbb143991406a7c655e-aa5fcb0a5a4ec34cff238a2d56ca4144.r56.cf5.rackcdn.com/cmunss.otf');\n",
        "    }\n",
        "    @font-face {\n",
        "        font-family: \"Computer Modern\";\n",
        "        font-weight: bold;\n",
        "        src: url('http://9dbb143991406a7c655e-aa5fcb0a5a4ec34cff238a2d56ca4144.r56.cf5.rackcdn.com/cmunsx.otf');\n",
        "    }\n",
        "    @font-face {\n",
        "        font-family: \"Computer Modern\";\n",
        "        font-style: oblique;\n",
        "        src: url('http://9dbb143991406a7c655e-aa5fcb0a5a4ec34cff238a2d56ca4144.r56.cf5.rackcdn.com/cmunsi.otf');\n",
        "    }\n",
        "    @font-face {\n",
        "        font-family: \"Computer Modern\";\n",
        "        font-weight: bold;\n",
        "        font-style: oblique;\n",
        "        src: url('http://9dbb143991406a7c655e-aa5fcb0a5a4ec34cff238a2d56ca4144.r56.cf5.rackcdn.com/cmunso.otf');\n",
        "    }\n",
        "    div.cell{\n",
        "        width:800px;\n",
        "        margin-left:16% !important;\n",
        "        margin-right:auto;\n",
        "    }\n",
        "    h1 {\n",
        "        font-family: Helvetica, serif;\n",
        "    }\n",
        "    h4{\n",
        "        margin-top:12px;\n",
        "        margin-bottom: 3px;\n",
        "       }\n",
        "    div.text_cell_render{\n",
        "        font-family: Computer Modern, \"Helvetica Neue\", Arial, Helvetica, Geneva, sans-serif;\n",
        "        line-height: 145%;\n",
        "        font-size: 130%;\n",
        "        width:800px;\n",
        "        margin-left:auto;\n",
        "        margin-right:auto;\n",
        "    }\n",
        "    .CodeMirror{\n",
        "            font-family: \"Source Code Pro\", source-code-pro,Consolas, monospace;\n",
        "    }\n",
        "    .prompt{\n",
        "        display: None;\n",
        "    }\n",
        "    .text_cell_render h5 {\n",
        "        font-weight: 300;\n",
        "        font-size: 22pt;\n",
        "        color: #4057A1;\n",
        "        font-style: italic;\n",
        "        margin-bottom: .5em;\n",
        "        margin-top: 0.5em;\n",
        "        display: block;\n",
        "    }\n",
        "    \n",
        "    .warning{\n",
        "        color: rgb( 240, 20, 20 )\n",
        "        }  \n",
        "</style>\n",
        "<script>\n",
        "    MathJax.Hub.Config({\n",
        "                        TeX: {\n",
        "                           extensions: [\"AMSmath.js\"]\n",
        "                           },\n",
        "                tex2jax: {\n",
        "                    inlineMath: [ ['$','$'], [\"\\\\(\",\"\\\\)\"] ],\n",
        "                    displayMath: [ ['$$','$$'], [\"\\\\[\",\"\\\\]\"] ]\n",
        "                },\n",
        "                displayAlign: 'center', // Change this to 'center' to center equations.\n",
        "                \"HTML-CSS\": {\n",
        "                    styles: {'.MathJax_Display': {\"margin\": 4}}\n",
        "                }\n",
        "        });\n",
        "</script>\n"
       ],
       "metadata": {},
       "output_type": "pyout",
       "prompt_number": 1,
       "text": [
        "<IPython.core.display.HTML at 0x1027b5690>"
       ]
      }
     ],
     "prompt_number": 1
    }
   ],
   "metadata": {}
  }
 ]
}