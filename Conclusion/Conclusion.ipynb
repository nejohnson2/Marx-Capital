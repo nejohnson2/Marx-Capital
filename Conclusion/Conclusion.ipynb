{
 "metadata": {
  "name": "",
  "signature": "sha256:c86420755b815ac51abefd571fbca624e0067bb0b24681ea8770286d42bfaba8"
 },
 "nbformat": 3,
 "nbformat_minor": 0,
 "worksheets": [
  {
   "cells": [
    {
     "cell_type": "code",
     "collapsed": false,
     "input": [
      "from IPython.display import YouTubeVideo\n",
      "YouTubeVideo('4qUHGiLXgPg')"
     ],
     "language": "python",
     "metadata": {},
     "outputs": [
      {
       "html": [
        "\n",
        "        <iframe\n",
        "            width=\"400\"\n",
        "            height=300\"\n",
        "            src=\"https://www.youtube.com/embed/4qUHGiLXgPg\"\n",
        "            frameborder=\"0\"\n",
        "            allowfullscreen\n",
        "        ></iframe>\n",
        "        "
       ],
       "metadata": {},
       "output_type": "pyout",
       "prompt_number": 1,
       "text": [
        "<IPython.lib.display.YouTubeVideo at 0x10b042650>"
       ]
      }
     ],
     "prompt_number": 1
    },
    {
     "cell_type": "markdown",
     "metadata": {},
     "source": [
      "# Conclusion"
     ]
    },
    {
     "cell_type": "markdown",
     "metadata": {},
     "source": [
      "Marx's primary puspose is an ideological one to undercut Adam Smith's arguement that perfectly function markets will create a result that is to the benefit of all.  This is not the case.  There are two minor consequences:\n",
      "\n",
      "1. Capitalism will always lead to centrialize motion of capital which leads to an centralization of power.  \n",
      "2. Class benefits will be maldistributed.  Production will win and those wage laborers will lose.\n",
      "\n",
      "Assumptions from Smith: \n",
      " - no problem finding a market for you goods;\n",
      " - no problem that capital is distributed in industrial capital, taxes etc... (?)\n",
      " - this system is closed;\n",
      " \n",
      "**Formula for Circulation of Capital**\n",
      "Central tale is - what is that capitalist actually do and what is capitalism as a social system all about?  Capitalist start the day with a certain amount of money.  The go into the market and purchase two commodities 1) Labor power 2) means of production(raw materials, energy etc, fixex capital), they then choose a particular technology and put the laboros to work with the means of production to produce a fresh commodity which is then sold for the original money plus a profit, plus a surplus value.\n",
      "\n",
      "What do they do with the surplus they recieved yesterday?  Cohersive laws of competition stops them from just spending the money and instead cause them to reinvest..because everyone else is reinvesting.  Therefore, capitalists put money into expanding production.  SO the next day, they need more means of production, more workers etc... which causes them to produce more commodities which means they need a larger market to sell etc....\n",
      "\n",
      "If it was catastrophe free, capitalist would have compound growth.\n",
      "\n",
      "Individual capitalists, forced by laws of coersive competition do not choose what they do they are forced.  Accululation for accumulation sake.\n",
      "\n",
      "Capitalism is a social process which takes forms at different points."
     ]
    },
    {
     "cell_type": "markdown",
     "metadata": {},
     "source": [
      "## Crisis Generators\n",
      "\n",
      "All of these are potential blockage points which need to be removed by the capitalists.  Therefore, there is a perpetual batter over all of these elements.  If they cannot be overcome then there is stagnation in this flow.  If you stop the flow of capital, you stop capital.  The result is the *crisis of devaluation*, suplus capital which is blocked."
     ]
    },
    {
     "cell_type": "markdown",
     "metadata": {},
     "source": [
      "<img src='crisis.png'>"
     ]
    },
    {
     "cell_type": "markdown",
     "metadata": {},
     "source": [
      "**Where does the original money come from?**  Marx argues *primitive accumulation* founded on robbery, fraud, violence etc...a violation of what capitalism is supposed to be about.  It changes when the bougosie gets ahold of 1) the state which takes over a state or creates a state which can legally do things to support capitalism.  2)The credit system.  This is connected with the state through the public debt.  To start businesses, you need large amount of capital.  YOu also need centralization of capital.  Centralization is about large companies taking over small companies and further waves of privatization.  This is also **accumulation by disposetion**.  You can do this with the help of the credit system and the state."
     ]
    },
    {
     "cell_type": "markdown",
     "metadata": {},
     "source": [
      "**Where is your labor power?**  Now and into the future.  You must assure a quality and quantiy of labor supply.  But capital is in control of both side because they select technology.  As capital become more in power and begins to receive more, they will begin to receive less and less because workers will strike, not have money to buy etc...  This is a crisis often called a *profit squeeze crisis*"
     ]
    },
    {
     "cell_type": "markdown",
     "metadata": {},
     "source": [
      "**Raw Material and relation to nature?** Marx says capitalism if left to itself, will destory nature.  During the 1970s, capitalism had labor issues, then began to focus on the source of raw materials.  **second contradiction of capitalism** - at somepoint, capitalism will destroy so much of nature that we will have a crisis.  The purchase of the means of production has its roots in the natural environment."
     ]
    },
    {
     "cell_type": "markdown",
     "metadata": {},
     "source": [
      "**Technological mix of the means of production**  Technology is not just about machines but also about the software/ knowledge, organizational forms etc...  Capitalism has problems in choosing technologies.  It is advantages to have rising productivity for the wage laborers.  Individual capitalists are driven to compete for a particular surplus value not general surpulus value.  \n",
      "\n",
      "Here, technological dynamism is linked to falling rates of profits.  Technological change has a destablizing effect on the capitalist dynamic ex: rapid technological change is a costly business particularly if a large amount of money is wrapped up in the technology."
     ]
    },
    {
     "cell_type": "markdown",
     "metadata": {},
     "source": [
      "** Underconsumption Crisis ** Easier to go from Money to Commodity than Commodity to Money.  Capitalism cannot solve this internally.  Therefore, capitalism will need to become imperial and begin to take over other systems."
     ]
    },
    {
     "cell_type": "code",
     "collapsed": false,
     "input": [
      "from IPython.core.display import HTML\n",
      "\n",
      "def css_styling():\n",
      "    styles = open(\"../styles/custom.css\", \"r\").read()\n",
      "    return HTML(styles)\n",
      "css_styling()"
     ],
     "language": "python",
     "metadata": {},
     "outputs": [
      {
       "html": [
        "<style>\n",
        "    @font-face {\n",
        "        font-family: \"Computer Modern\";\n",
        "        src: url('http://9dbb143991406a7c655e-aa5fcb0a5a4ec34cff238a2d56ca4144.r56.cf5.rackcdn.com/cmunss.otf');\n",
        "    }\n",
        "    @font-face {\n",
        "        font-family: \"Computer Modern\";\n",
        "        font-weight: bold;\n",
        "        src: url('http://9dbb143991406a7c655e-aa5fcb0a5a4ec34cff238a2d56ca4144.r56.cf5.rackcdn.com/cmunsx.otf');\n",
        "    }\n",
        "    @font-face {\n",
        "        font-family: \"Computer Modern\";\n",
        "        font-style: oblique;\n",
        "        src: url('http://9dbb143991406a7c655e-aa5fcb0a5a4ec34cff238a2d56ca4144.r56.cf5.rackcdn.com/cmunsi.otf');\n",
        "    }\n",
        "    @font-face {\n",
        "        font-family: \"Computer Modern\";\n",
        "        font-weight: bold;\n",
        "        font-style: oblique;\n",
        "        src: url('http://9dbb143991406a7c655e-aa5fcb0a5a4ec34cff238a2d56ca4144.r56.cf5.rackcdn.com/cmunso.otf');\n",
        "    }\n",
        "    div.cell{\n",
        "        width:800px;\n",
        "        margin-left:16% !important;\n",
        "        margin-right:auto;\n",
        "    }\n",
        "    h1 {\n",
        "        font-family: Helvetica, serif;\n",
        "    }\n",
        "    h4{\n",
        "        margin-top:12px;\n",
        "        margin-bottom: 3px;\n",
        "       }\n",
        "    div.text_cell_render{\n",
        "        font-family: Computer Modern, \"Helvetica Neue\", Arial, Helvetica, Geneva, sans-serif;\n",
        "        line-height: 145%;\n",
        "        font-size: 130%;\n",
        "        width:800px;\n",
        "        margin-left:auto;\n",
        "        margin-right:auto;\n",
        "    }\n",
        "    .CodeMirror{\n",
        "            font-family: \"Source Code Pro\", source-code-pro,Consolas, monospace;\n",
        "    }\n",
        "    .prompt{\n",
        "        display: None;\n",
        "    }\n",
        "    .text_cell_render h5 {\n",
        "        font-weight: 300;\n",
        "        font-size: 22pt;\n",
        "        color: #4057A1;\n",
        "        font-style: italic;\n",
        "        margin-bottom: .5em;\n",
        "        margin-top: 0.5em;\n",
        "        display: block;\n",
        "    }\n",
        "    \n",
        "    .warning{\n",
        "        color: rgb( 240, 20, 20 )\n",
        "        }  \n",
        "</style>\n",
        "<script>\n",
        "    MathJax.Hub.Config({\n",
        "                        TeX: {\n",
        "                           extensions: [\"AMSmath.js\"]\n",
        "                           },\n",
        "                tex2jax: {\n",
        "                    inlineMath: [ ['$','$'], [\"\\\\(\",\"\\\\)\"] ],\n",
        "                    displayMath: [ ['$$','$$'], [\"\\\\[\",\"\\\\]\"] ]\n",
        "                },\n",
        "                displayAlign: 'center', // Change this to 'center' to center equations.\n",
        "                \"HTML-CSS\": {\n",
        "                    styles: {'.MathJax_Display': {\"margin\": 4}}\n",
        "                }\n",
        "        });\n",
        "</script>\n"
       ],
       "metadata": {},
       "output_type": "pyout",
       "prompt_number": 4,
       "text": [
        "<IPython.core.display.HTML at 0x10b04d910>"
       ]
      }
     ],
     "prompt_number": 4
    }
   ],
   "metadata": {}
  }
 ]
}