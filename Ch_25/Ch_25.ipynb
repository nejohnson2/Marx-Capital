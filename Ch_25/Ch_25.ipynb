{
 "metadata": {
  "name": "",
  "signature": "sha256:9f56ed5dada13080d20ff82a8923356e2e304d96d9932ec719f23288e432c74f"
 },
 "nbformat": 3,
 "nbformat_minor": 0,
 "worksheets": [
  {
   "cells": [
    {
     "cell_type": "code",
     "collapsed": false,
     "input": [
      "from IPython.display import YouTubeVideo\n",
      "YouTubeVideo('147Ie78Qio4')"
     ],
     "language": "python",
     "metadata": {},
     "outputs": [
      {
       "html": [
        "\n",
        "        <iframe\n",
        "            width=\"400\"\n",
        "            height=300\"\n",
        "            src=\"https://www.youtube.com/embed/147Ie78Qio4\"\n",
        "            frameborder=\"0\"\n",
        "            allowfullscreen\n",
        "        ></iframe>\n",
        "        "
       ],
       "metadata": {},
       "output_type": "pyout",
       "prompt_number": 2,
       "text": [
        "<IPython.lib.display.YouTubeVideo at 0x110b48310>"
       ]
      }
     ],
     "prompt_number": 2
    },
    {
     "cell_type": "markdown",
     "metadata": {},
     "source": [
      "# The General Law of Capitalist Accumulation"
     ]
    },
    {
     "cell_type": "markdown",
     "metadata": {},
     "source": [
      "The theoretical logic and the historical arguments.  There is a theorectical arguemnt which is a critque of classical political economy which said let the free market do its work and everything will be ok.  Marx says assume that utopian idea and see what will happen.  First you'll have monopolys which shouldnt happen.  Secondly, will it work for the benefit of the worker?  That's what the classical political people say.  Marx says no.  The rich get richer and the poorer have gotten poorer.  Marx proves this throughout the book.  These come out in Ch 25.  \n",
      "\n",
      "The practical argument is contingent on the belief in the myth that the invisble hand is the way to go.  This chapter is the culmination of Volumn 1."
     ]
    },
    {
     "cell_type": "markdown",
     "metadata": {},
     "source": [
      "- Technological Composition - Physical productivity\n",
      "\n",
      "- Value Composition = C / V  (C = total amount of value you must lay out for raw materials, machinery etc... V = variable capital(value of labor-power))\n",
      "\n",
      "- Organic Composition = Value Composition affected by physical productivity\n",
      "    - Internal measure\n",
      "    - External effects"
     ]
    },
    {
     "cell_type": "markdown",
     "metadata": {},
     "source": [
      "Capital becomes increasingly captial intensive as opposed to labor intensive over time.  The law of organic composition."
     ]
    },
    {
     "cell_type": "markdown",
     "metadata": {},
     "source": [
      "### Law of Falling Profit Rate\n",
      "\n",
      "P is the rate of profit.  Less labor and more means of production.  $\\frac{S}{C+V}$ is the surplus-value divided by total captial advanced.\n",
      "\n",
      "$$\n",
      "P = \\frac{S} {C+V}\n",
      "\\longrightarrow\n",
      "P = \\frac{\\frac{S}{V}}{1+\\frac{C}{V}}\n",
      "$$\n",
      "\n",
      "Where C is the total amount of value you must lay out for raw materials, machinery etc... S is the surplus-value and V is variable capital(i.e. the value of labor-power)."
     ]
    },
    {
     "cell_type": "markdown",
     "metadata": {},
     "source": [
      "44min"
     ]
    },
    {
     "cell_type": "code",
     "collapsed": false,
     "input": [
      "from IPython.core.display import HTML\n",
      "\n",
      "def css_styling():\n",
      "    styles = open(\"../styles/custom.css\", \"r\").read()\n",
      "    return HTML(styles)\n",
      "css_styling()"
     ],
     "language": "python",
     "metadata": {},
     "outputs": []
    }
   ],
   "metadata": {}
  }
 ]
}