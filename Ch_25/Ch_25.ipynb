{
 "metadata": {
  "name": "",
  "signature": "sha256:ca0f971e80f64d52e100f3962c9d4b289a20e050112a12147a28491027c36aee"
 },
 "nbformat": 3,
 "nbformat_minor": 0,
 "worksheets": [
  {
   "cells": [
    {
     "cell_type": "code",
     "collapsed": false,
     "input": [
      "from IPython.display import YouTubeVideo\n",
      "YouTubeVideo('147Ie78Qio4')"
     ],
     "language": "python",
     "metadata": {},
     "outputs": [
      {
       "html": [
        "\n",
        "        <iframe\n",
        "            width=\"400\"\n",
        "            height=300\"\n",
        "            src=\"https://www.youtube.com/embed/147Ie78Qio4\"\n",
        "            frameborder=\"0\"\n",
        "            allowfullscreen\n",
        "        ></iframe>\n",
        "        "
       ],
       "metadata": {},
       "output_type": "pyout",
       "prompt_number": 2,
       "text": [
        "<IPython.lib.display.YouTubeVideo at 0x110b48310>"
       ]
      }
     ],
     "prompt_number": 2
    },
    {
     "cell_type": "markdown",
     "metadata": {},
     "source": [
      "# The General Law of Capitalist Accumulation"
     ]
    },
    {
     "cell_type": "markdown",
     "metadata": {},
     "source": [
      "The theoretical logic and the historical arguments.  There is a theorectical arguemnt which is a critque of classical political economy which said let the free market do its work and everything will be ok.  Marx says assume that utopian idea and see what will happen.  First you'll have monopolys which shouldnt happen.  Secondly, will it work for the benefit of the worker?  That's what the classical political people say.  Marx says no.  The rich get richer and the poorer have gotten poorer.  Marx proves this throughout the book.  These come out in Ch 25.  \n",
      "\n",
      "The practical argument is contingent on the belief in the myth that the invisble hand is the way to go.  This chapter is the culmination of Volumn 1."
     ]
    },
    {
     "cell_type": "markdown",
     "metadata": {},
     "source": [
      "- Technological Composition - Physical productivity\n",
      "\n",
      "- Value Composition = C / V  (C = total amount of value you must lay out for raw materials, machinery etc... V = variable capital(value of labor-power))\n",
      "\n",
      "- Organic Composition = Value Composition affected by physical productivity\n",
      "    - Internal measure\n",
      "    - External effects"
     ]
    },
    {
     "cell_type": "markdown",
     "metadata": {},
     "source": [
      "Capital becomes increasingly captial intensive as opposed to labor intensive over time.  The law of organic composition."
     ]
    },
    {
     "cell_type": "markdown",
     "metadata": {},
     "source": [
      "<img src='marx.png'>"
     ]
    },
    {
     "cell_type": "markdown",
     "metadata": {},
     "source": [
      "### Law of Falling Profit Rate\n",
      "\n",
      "P is the rate of profit.  Less labor and more means of production.  $\\frac{S}{C+V}$ is the surplus-value divided by total captial advanced.\n",
      "\n",
      "$$\n",
      "P = \\frac{S} {C+V}\n",
      "\\longrightarrow\n",
      "P = \\frac{\\frac{S}{V}}{1+\\frac{C}{V}}\n",
      "$$\n",
      "\n",
      "Where C is the total amount of value you must lay out for raw materials, machinery etc... S is the surplus-value and V is variable capital(i.e. the value of labor-power)."
     ]
    },
    {
     "cell_type": "markdown",
     "metadata": {},
     "source": [
      "In the quest for greater surplus value, you displace the laboer which is displacing the source of surplus value."
     ]
    },
    {
     "cell_type": "markdown",
     "metadata": {},
     "source": [
      "<img src='marx_2.png'>"
     ]
    },
    {
     "cell_type": "markdown",
     "metadata": {},
     "source": [
      "> Implementing technology only happens when the value to implement the technology is less than the value of the surplus labor.  Look at Agbobloshie.  There is not 'formal' recycling because the value of labor is so low.  How then does this work with the cost of the recovered materials?  Think globally.  If the recycling industry can employ technologies to recycle electronics more cheaply than can be 'informally' recycled then they will not do so."
     ]
    },
    {
     "cell_type": "markdown",
     "metadata": {},
     "source": [
      "The surplus populatino exists in three forms:\n",
      "\n",
      "- **floating population:** - people in and out of the workforce.  Typically unemployed, typically where there is capital\n",
      "- **latent population:** - groups who have not yet been fully proletarianized (agrarian populations). All over the world.  Mexican labor surplus is a threat to American workers.  As this surplus is prohibitied by immigration.\n",
      "- **stagnant population:** the almost unemployable population.  The hospital etc... people so destoryed mentally or physical it is difficult to mobilize them into the population.  The underclass perhaps."
     ]
    },
    {
     "cell_type": "markdown",
     "metadata": {},
     "source": [
      "**Section 5** - what happens in Ghana could be substituted for section 5.  This is a result of capitalism."
     ]
    },
    {
     "cell_type": "code",
     "collapsed": false,
     "input": [
      "from IPython.core.display import HTML\n",
      "\n",
      "def css_styling():\n",
      "    styles = open(\"../styles/custom.css\", \"r\").read()\n",
      "    return HTML(styles)\n",
      "css_styling()"
     ],
     "language": "python",
     "metadata": {},
     "outputs": [
      {
       "html": [
        "<style>\n",
        "    @font-face {\n",
        "        font-family: \"Computer Modern\";\n",
        "        src: url('http://9dbb143991406a7c655e-aa5fcb0a5a4ec34cff238a2d56ca4144.r56.cf5.rackcdn.com/cmunss.otf');\n",
        "    }\n",
        "    @font-face {\n",
        "        font-family: \"Computer Modern\";\n",
        "        font-weight: bold;\n",
        "        src: url('http://9dbb143991406a7c655e-aa5fcb0a5a4ec34cff238a2d56ca4144.r56.cf5.rackcdn.com/cmunsx.otf');\n",
        "    }\n",
        "    @font-face {\n",
        "        font-family: \"Computer Modern\";\n",
        "        font-style: oblique;\n",
        "        src: url('http://9dbb143991406a7c655e-aa5fcb0a5a4ec34cff238a2d56ca4144.r56.cf5.rackcdn.com/cmunsi.otf');\n",
        "    }\n",
        "    @font-face {\n",
        "        font-family: \"Computer Modern\";\n",
        "        font-weight: bold;\n",
        "        font-style: oblique;\n",
        "        src: url('http://9dbb143991406a7c655e-aa5fcb0a5a4ec34cff238a2d56ca4144.r56.cf5.rackcdn.com/cmunso.otf');\n",
        "    }\n",
        "    div.cell{\n",
        "        width:800px;\n",
        "        margin-left:16% !important;\n",
        "        margin-right:auto;\n",
        "    }\n",
        "    h1 {\n",
        "        font-family: Helvetica, serif;\n",
        "    }\n",
        "    h4{\n",
        "        margin-top:12px;\n",
        "        margin-bottom: 3px;\n",
        "       }\n",
        "    div.text_cell_render{\n",
        "        font-family: Computer Modern, \"Helvetica Neue\", Arial, Helvetica, Geneva, sans-serif;\n",
        "        line-height: 145%;\n",
        "        font-size: 130%;\n",
        "        width:800px;\n",
        "        margin-left:auto;\n",
        "        margin-right:auto;\n",
        "    }\n",
        "    .CodeMirror{\n",
        "            font-family: \"Source Code Pro\", source-code-pro,Consolas, monospace;\n",
        "    }\n",
        "    .prompt{\n",
        "        display: None;\n",
        "    }\n",
        "    .text_cell_render h5 {\n",
        "        font-weight: 300;\n",
        "        font-size: 22pt;\n",
        "        color: #4057A1;\n",
        "        font-style: italic;\n",
        "        margin-bottom: .5em;\n",
        "        margin-top: 0.5em;\n",
        "        display: block;\n",
        "    }\n",
        "    \n",
        "    .warning{\n",
        "        color: rgb( 240, 20, 20 )\n",
        "        }  \n",
        "</style>\n",
        "<script>\n",
        "    MathJax.Hub.Config({\n",
        "                        TeX: {\n",
        "                           extensions: [\"AMSmath.js\"]\n",
        "                           },\n",
        "                tex2jax: {\n",
        "                    inlineMath: [ ['$','$'], [\"\\\\(\",\"\\\\)\"] ],\n",
        "                    displayMath: [ ['$$','$$'], [\"\\\\[\",\"\\\\]\"] ]\n",
        "                },\n",
        "                displayAlign: 'center', // Change this to 'center' to center equations.\n",
        "                \"HTML-CSS\": {\n",
        "                    styles: {'.MathJax_Display': {\"margin\": 4}}\n",
        "                }\n",
        "        });\n",
        "</script>\n"
       ],
       "metadata": {},
       "output_type": "pyout",
       "prompt_number": 2,
       "text": [
        "<IPython.core.display.HTML at 0x11147cd90>"
       ]
      }
     ],
     "prompt_number": 2
    }
   ],
   "metadata": {}
  }
 ]
}