{
 "metadata": {
  "name": "",
  "signature": "sha256:34147884179e3422cd1492560a8754e7ea14b7d11ec4989aa3315621fe31efdc"
 },
 "nbformat": 3,
 "nbformat_minor": 0,
 "worksheets": [
  {
   "cells": [
    {
     "cell_type": "code",
     "collapsed": false,
     "input": [
      "from IPython.display import YouTubeVideo\n",
      "YouTubeVideo('0Lpijzd2fBw')"
     ],
     "language": "python",
     "metadata": {},
     "outputs": [
      {
       "html": [
        "\n",
        "        <iframe\n",
        "            width=\"400\"\n",
        "            height=300\"\n",
        "            src=\"https://www.youtube.com/embed/0Lpijzd2fBw\"\n",
        "            frameborder=\"0\"\n",
        "            allowfullscreen\n",
        "        ></iframe>\n",
        "        "
       ],
       "metadata": {},
       "output_type": "pyout",
       "prompt_number": 1,
       "text": [
        "<IPython.lib.display.YouTubeVideo at 0x105029610>"
       ]
      }
     ],
     "prompt_number": 1
    },
    {
     "cell_type": "markdown",
     "metadata": {},
     "source": [
      "Marx doesnt talk about socialism or communisim.  But you get a theroy of how societies change (ch 15 footnote) which tells you how feudalism transformed into capitalism and we should think about those ideas as a critque as what happend with socialism and communism.  The footnote should be used as a way to theorize how to change the society we are in"
     ]
    },
    {
     "cell_type": "markdown",
     "metadata": {},
     "source": [
      "# Machinery and Large-Scale Industry"
     ]
    },
    {
     "cell_type": "markdown",
     "metadata": {},
     "source": [
      "In the footnote he lays out the idea of a relationshipo to Darwin.  Evolution equips organisms with the technologies to survive.  'A critical history of technology' the idea that there has been a human evloutionary process in which we can distiguish the difference in societies by the nature of technologies that we see.  Here, Marx is talking about the evolution of human society and continuing Darwins work and evolution."
     ]
    },
    {
     "cell_type": "markdown",
     "metadata": {},
     "source": [
      "Darwin see the division of labor, cooperation etc... in nature much as Marx see this in industrial England at that time.  Darwin's wife was from a powerful industrial family so he was familiar with these topics.  Eg the Russians couldnt understand Darwin and instead focused on cooperation and mutual aid and understanding.  "
     ]
    },
    {
     "cell_type": "markdown",
     "metadata": {},
     "source": [
      "Here Marx is concerned with an evolutionary process.  Dynmics.  It is always something in motion constantly evolving from one form to another.  The language of process and the fluidity of change and process how things change.  Here in this chapter, we see how industrial captialism emerges from manufacturing."
     ]
    },
    {
     "cell_type": "markdown",
     "metadata": {},
     "source": [
      "### Categories of Evolution\n"
     ]
    },
    {
     "cell_type": "markdown",
     "metadata": {},
     "source": [
      "<img src='marx.png'>"
     ]
    },
    {
     "cell_type": "markdown",
     "metadata": {},
     "source": [
      "Technology does not determine.  It reveals or discloses.  Then we can talk about the **Production of Nature**.  "
     ]
    },
    {
     "cell_type": "markdown",
     "metadata": {},
     "source": [
      "There are several modes of social change.  If you say technology is the prime force which causes all the others than you are a technological determinist. If nature is the prime ..then you are an environmental determinist.  If the process of production then you'd be worker Marxists.  Idea's that change the world...\n",
      "\n",
      "**BUT** Marx doesnt use causal language.  He doesnt say that one affects the other etc...  **Nor** does he take the Heigellian view of saying that everything is organic and related...\n",
      "\n",
      "Marx leaves the system open.  They are related but you cannot determine the state of one by the state of the other.  There is autonomy in each of these."
     ]
    },
    {
     "cell_type": "markdown",
     "metadata": {},
     "source": [
      "THis is the superstructure arguement. pg 175 footnote.  There is an economic foundation which leads to other forms of society, law etc...  Is he saying that the economic foundation **determines** the superstructure.  No.  It is a dialectical relations between the constant search for social necessary labor time from the captiaist and the resistance from the working class which puts you into the dynamics of class struggle.  This will exist as long as captialism exists."
     ]
    },
    {
     "cell_type": "markdown",
     "metadata": {},
     "source": [
      "Marx says machines are usd to produce surplus value not to better our lives.  Machines are a source of surplus value and relative surplus value.  Capitalist begin to fetishize machines.  \n",
      "\n",
      "There is a distinction between tools and machines.\n",
      "\n",
      "There is a process: \n",
      "\n",
      "Tools > Groups of Tools > Machines > Machine making machines (large-scale industry)"
     ]
    },
    {
     "cell_type": "markdown",
     "metadata": {},
     "source": [
      "### 2. The Value Transferred by the machine to the product\n",
      "\n",
      "At what point do capitalists stop using machines?  (pg513)  Depends on the value of labor-power.\n",
      "\n",
      "> Footnote on pg518: 'Domestic work, such as sewing and mending, must be replaced by the purchase of ready-made articles.  Hence the diminished expenditure of labor in the house is accompanied by an increased expenditure of money outside."
     ]
    },
    {
     "cell_type": "markdown",
     "metadata": {},
     "source": [
      "**Radical transformation in technology or machinary cannont happen without some form of change in social relations.**\n",
      "\n",
      "As machines provide continuity of the process, people then need to be continuous and a part of that process to make machines work.  \n",
      "\n",
      "Devaluation:\n",
      "\n",
      "Technology actually underminds surplus value...individual capitalist behaving in their own interest create a disequalilibrium which can create a crisis in the capitalist mode of production.\n"
     ]
    },
    {
     "cell_type": "code",
     "collapsed": false,
     "input": [
      "from IPython.core.display import HTML\n",
      "\n",
      "def css_styling():\n",
      "    styles = open(\"../styles/custom.css\", \"r\").read()\n",
      "    return HTML(styles)\n",
      "css_styling()"
     ],
     "language": "python",
     "metadata": {},
     "outputs": [
      {
       "html": [
        "<style>\n",
        "    @font-face {\n",
        "        font-family: \"Computer Modern\";\n",
        "        src: url('http://9dbb143991406a7c655e-aa5fcb0a5a4ec34cff238a2d56ca4144.r56.cf5.rackcdn.com/cmunss.otf');\n",
        "    }\n",
        "    @font-face {\n",
        "        font-family: \"Computer Modern\";\n",
        "        font-weight: bold;\n",
        "        src: url('http://9dbb143991406a7c655e-aa5fcb0a5a4ec34cff238a2d56ca4144.r56.cf5.rackcdn.com/cmunsx.otf');\n",
        "    }\n",
        "    @font-face {\n",
        "        font-family: \"Computer Modern\";\n",
        "        font-style: oblique;\n",
        "        src: url('http://9dbb143991406a7c655e-aa5fcb0a5a4ec34cff238a2d56ca4144.r56.cf5.rackcdn.com/cmunsi.otf');\n",
        "    }\n",
        "    @font-face {\n",
        "        font-family: \"Computer Modern\";\n",
        "        font-weight: bold;\n",
        "        font-style: oblique;\n",
        "        src: url('http://9dbb143991406a7c655e-aa5fcb0a5a4ec34cff238a2d56ca4144.r56.cf5.rackcdn.com/cmunso.otf');\n",
        "    }\n",
        "    div.cell{\n",
        "        width:800px;\n",
        "        margin-left:16% !important;\n",
        "        margin-right:auto;\n",
        "    }\n",
        "    h1 {\n",
        "        font-family: Helvetica, serif;\n",
        "    }\n",
        "    h4{\n",
        "        margin-top:12px;\n",
        "        margin-bottom: 3px;\n",
        "       }\n",
        "    div.text_cell_render{\n",
        "        font-family: Computer Modern, \"Helvetica Neue\", Arial, Helvetica, Geneva, sans-serif;\n",
        "        line-height: 145%;\n",
        "        font-size: 130%;\n",
        "        width:800px;\n",
        "        margin-left:auto;\n",
        "        margin-right:auto;\n",
        "    }\n",
        "    .CodeMirror{\n",
        "            font-family: \"Source Code Pro\", source-code-pro,Consolas, monospace;\n",
        "    }\n",
        "    .prompt{\n",
        "        display: None;\n",
        "    }\n",
        "    .text_cell_render h5 {\n",
        "        font-weight: 300;\n",
        "        font-size: 22pt;\n",
        "        color: #4057A1;\n",
        "        font-style: italic;\n",
        "        margin-bottom: .5em;\n",
        "        margin-top: 0.5em;\n",
        "        display: block;\n",
        "    }\n",
        "    \n",
        "    .warning{\n",
        "        color: rgb( 240, 20, 20 )\n",
        "        }  \n",
        "</style>\n",
        "<script>\n",
        "    MathJax.Hub.Config({\n",
        "                        TeX: {\n",
        "                           extensions: [\"AMSmath.js\"]\n",
        "                           },\n",
        "                tex2jax: {\n",
        "                    inlineMath: [ ['$','$'], [\"\\\\(\",\"\\\\)\"] ],\n",
        "                    displayMath: [ ['$$','$$'], [\"\\\\[\",\"\\\\]\"] ]\n",
        "                },\n",
        "                displayAlign: 'center', // Change this to 'center' to center equations.\n",
        "                \"HTML-CSS\": {\n",
        "                    styles: {'.MathJax_Display': {\"margin\": 4}}\n",
        "                }\n",
        "        });\n",
        "</script>\n"
       ],
       "metadata": {},
       "output_type": "pyout",
       "prompt_number": 2,
       "text": [
        "<IPython.core.display.HTML at 0x1033d9e50>"
       ]
      }
     ],
     "prompt_number": 2
    }
   ],
   "metadata": {}
  }
 ]
}