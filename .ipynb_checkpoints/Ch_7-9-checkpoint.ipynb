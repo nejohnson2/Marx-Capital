{
 "metadata": {
  "name": "",
  "signature": "sha256:855609ebb1401a722f1835ddf198f0752bffdec785901ffe5530bb6992584a91"
 },
 "nbformat": 3,
 "nbformat_minor": 0,
 "worksheets": [
  {
   "cells": [
    {
     "cell_type": "markdown",
     "metadata": {},
     "source": [
      "#Ch 7 - The Labor Process and the"
     ]
    },
    {
     "cell_type": "markdown",
     "metadata": {},
     "source": [
      "$$\n",
      "\\text{Commodity}\n",
      "\\left.\\begin{cases}\n",
      " \\text{Use Value} \\\\\n",
      " \\text{Exchange Value}\n",
      "\\end{cases}\n",
      "\\right\\} \\text{Labor Value}\n",
      "$$"
     ]
    }
   ],
   "metadata": {}
  }
 ]
}